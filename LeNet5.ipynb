{
  "nbformat": 4,
  "nbformat_minor": 0,
  "metadata": {
    "colab": {
      "provenance": [],
      "gpuType": "T4",
      "authorship_tag": "ABX9TyNam/rE956lHZRdJcdN4RFt"
    },
    "kernelspec": {
      "name": "python3",
      "display_name": "Python 3"
    },
    "language_info": {
      "name": "python"
    },
    "accelerator": "GPU"
  },
  "cells": [
    {
      "cell_type": "code",
      "source": [
        "from google.colab import drive\n",
        "drive.mount('/content/gdrive')\n",
        "root_dir='gdrive/MyDrive/mnist/'"
      ],
      "metadata": {
        "id": "aDrrDZsakQsM",
        "colab": {
          "base_uri": "https://localhost:8080/"
        },
        "outputId": "bd66db66-64f0-4d07-d5d7-343e2c3b917e"
      },
      "execution_count": null,
      "outputs": [
        {
          "output_type": "stream",
          "name": "stdout",
          "text": [
            "Drive already mounted at /content/gdrive; to attempt to forcibly remount, call drive.mount(\"/content/gdrive\", force_remount=True).\n"
          ]
        }
      ]
    },
    {
      "cell_type": "code",
      "execution_count": null,
      "metadata": {
        "id": "sXnDmXR7RDr2",
        "colab": {
          "base_uri": "https://localhost:8080/"
        },
        "outputId": "51651d7d-2698-47c1-9cf5-6f7da5e22c87"
      },
      "outputs": [
        {
          "output_type": "stream",
          "name": "stdout",
          "text": [
            "Found GPU at: /device:GPU:0\n"
          ]
        }
      ],
      "source": [
        "import tensorflow as tf\n",
        "device_name = tf.test.gpu_device_name()\n",
        "if device_name != '/device:GPU:0':\n",
        "  raise SystemError('GPU device not found')\n",
        "print('Found GPU at: {}'.format(device_name))"
      ]
    },
    {
      "cell_type": "code",
      "source": [
        "from tensorflow.keras import models, layers\n",
        "from tensorflow.keras.datasets import mnist\n",
        "from tensorflow.keras.utils import to_categorical\n",
        "\n",
        "model = models.Sequential()\n",
        "model.add(layers.Conv2D(32, kernel_size=(5, 5), activation='relu', input_shape=(28, 28, 1)))\n",
        "model.add(layers.MaxPooling2D(pool_size=(2, 2)))\n",
        "model.add(layers.Conv2D(64, kernel_size=(8, 8), activation='relu'))\n",
        "model.add(layers.MaxPooling2D(pool_size=(2, 2)))\n",
        "model.add(layers.Flatten())\n",
        "model.add(layers.Dense(128, activation='relu'))\n",
        "model.add(layers.Dense(10, activation='softmax'))\n",
        "\n",
        "model.summary()\n",
        "\n",
        "(train_images_org, train_labels_org), (test_images_org, test_labels_org) = mnist.load_data()\n",
        "\n",
        "a = 10000\n",
        "b = 1000\n",
        "\n",
        "train_images = train_images_org[0:a]\n",
        "train_labels = train_labels_org[0:a]\n",
        "test_images = test_images_org[0:b]\n",
        "test_labels = test_labels_org[0:b]\n",
        "\n",
        "train_images = train_images.reshape((10000, 28, 28, 1))\n",
        "train_images = train_images.astype('float32') / 255\n",
        "test_images = test_images.reshape((1000, 28, 28, 1))\n",
        "test_images = test_images.astype('float32') / 255\n",
        "\n",
        "train_labels = to_categorical(train_labels)\n",
        "test_labels = to_categorical(test_labels)\n",
        "\n",
        "model.compile(optimizer='rmsprop', loss='categorical_crossentropy', metrics=['accuracy'])\n",
        "history = model.fit(train_images, train_labels, epochs=30, batch_size=32, validation_data=(test_images, test_labels))\n",
        "\n",
        "save_dir = os.path.join(root_dir, 'mnist_conv_net.h5')\n",
        "model.save(save_dir)\n",
        "\n",
        "test_loss, test_acc = model.evaluate(test_images, test_labels)\n",
        "print('Test accuracy:', test_acc*100)\n"
      ],
      "metadata": {
        "colab": {
          "base_uri": "https://localhost:8080/"
        },
        "id": "bI8AOCj7zWNO",
        "outputId": "1b6bdc47-6cb4-44f6-b9fb-2392127cf20b"
      },
      "execution_count": null,
      "outputs": [
        {
          "output_type": "stream",
          "name": "stdout",
          "text": [
            "Model: \"sequential_11\"\n",
            "_________________________________________________________________\n",
            " Layer (type)                Output Shape              Param #   \n",
            "=================================================================\n",
            " conv2d_32 (Conv2D)          (None, 24, 24, 32)        832       \n",
            "                                                                 \n",
            " max_pooling2d_23 (MaxPoolin  (None, 12, 12, 32)       0         \n",
            " g2D)                                                            \n",
            "                                                                 \n",
            " conv2d_33 (Conv2D)          (None, 5, 5, 64)          131136    \n",
            "                                                                 \n",
            " max_pooling2d_24 (MaxPoolin  (None, 2, 2, 64)         0         \n",
            " g2D)                                                            \n",
            "                                                                 \n",
            " flatten_10 (Flatten)        (None, 256)               0         \n",
            "                                                                 \n",
            " dense_18 (Dense)            (None, 128)               32896     \n",
            "                                                                 \n",
            " dense_19 (Dense)            (None, 10)                1290      \n",
            "                                                                 \n",
            "=================================================================\n",
            "Total params: 166,154\n",
            "Trainable params: 166,154\n",
            "Non-trainable params: 0\n",
            "_________________________________________________________________\n",
            "Epoch 1/30\n",
            "313/313 [==============================] - 3s 6ms/step - loss: 0.4133 - accuracy: 0.8689 - val_loss: 0.1730 - val_accuracy: 0.9420\n",
            "Epoch 2/30\n",
            "313/313 [==============================] - 2s 6ms/step - loss: 0.1202 - accuracy: 0.9622 - val_loss: 0.0874 - val_accuracy: 0.9700\n",
            "Epoch 3/30\n",
            "313/313 [==============================] - 2s 6ms/step - loss: 0.0726 - accuracy: 0.9761 - val_loss: 0.0907 - val_accuracy: 0.9670\n",
            "Epoch 4/30\n",
            "313/313 [==============================] - 1s 4ms/step - loss: 0.0471 - accuracy: 0.9854 - val_loss: 0.0761 - val_accuracy: 0.9750\n",
            "Epoch 5/30\n",
            "313/313 [==============================] - 2s 5ms/step - loss: 0.0307 - accuracy: 0.9902 - val_loss: 0.0770 - val_accuracy: 0.9750\n",
            "Epoch 6/30\n",
            "313/313 [==============================] - 1s 4ms/step - loss: 0.0224 - accuracy: 0.9920 - val_loss: 0.0664 - val_accuracy: 0.9770\n",
            "Epoch 7/30\n",
            "313/313 [==============================] - 1s 5ms/step - loss: 0.0135 - accuracy: 0.9959 - val_loss: 0.0683 - val_accuracy: 0.9760\n",
            "Epoch 8/30\n",
            "313/313 [==============================] - 1s 5ms/step - loss: 0.0106 - accuracy: 0.9963 - val_loss: 0.0809 - val_accuracy: 0.9760\n",
            "Epoch 9/30\n",
            "313/313 [==============================] - 1s 5ms/step - loss: 0.0071 - accuracy: 0.9976 - val_loss: 0.0671 - val_accuracy: 0.9800\n",
            "Epoch 10/30\n",
            "313/313 [==============================] - 2s 5ms/step - loss: 0.0074 - accuracy: 0.9974 - val_loss: 0.0931 - val_accuracy: 0.9820\n",
            "Epoch 11/30\n",
            "313/313 [==============================] - 2s 6ms/step - loss: 0.0031 - accuracy: 0.9992 - val_loss: 0.0726 - val_accuracy: 0.9800\n",
            "Epoch 12/30\n",
            "313/313 [==============================] - 2s 6ms/step - loss: 8.6486e-04 - accuracy: 0.9997 - val_loss: 0.0879 - val_accuracy: 0.9810\n",
            "Epoch 13/30\n",
            "313/313 [==============================] - 1s 5ms/step - loss: 0.0013 - accuracy: 0.9997 - val_loss: 0.0924 - val_accuracy: 0.9800\n",
            "Epoch 14/30\n",
            "313/313 [==============================] - 1s 5ms/step - loss: 0.0017 - accuracy: 0.9992 - val_loss: 0.0993 - val_accuracy: 0.9810\n",
            "Epoch 15/30\n",
            "313/313 [==============================] - 1s 5ms/step - loss: 0.0025 - accuracy: 0.9991 - val_loss: 0.0867 - val_accuracy: 0.9810\n",
            "Epoch 16/30\n",
            "313/313 [==============================] - 1s 5ms/step - loss: 0.0013 - accuracy: 0.9994 - val_loss: 0.1104 - val_accuracy: 0.9780\n",
            "Epoch 17/30\n",
            "313/313 [==============================] - 1s 4ms/step - loss: 0.0025 - accuracy: 0.9990 - val_loss: 0.1146 - val_accuracy: 0.9790\n",
            "Epoch 18/30\n",
            "313/313 [==============================] - 1s 4ms/step - loss: 0.0023 - accuracy: 0.9995 - val_loss: 0.0763 - val_accuracy: 0.9810\n",
            "Epoch 19/30\n",
            "313/313 [==============================] - 2s 5ms/step - loss: 1.4689e-04 - accuracy: 1.0000 - val_loss: 0.0705 - val_accuracy: 0.9820\n",
            "Epoch 20/30\n",
            "313/313 [==============================] - 2s 6ms/step - loss: 1.1971e-05 - accuracy: 1.0000 - val_loss: 0.0821 - val_accuracy: 0.9830\n",
            "Epoch 21/30\n",
            "313/313 [==============================] - 2s 6ms/step - loss: 2.8182e-06 - accuracy: 1.0000 - val_loss: 0.0806 - val_accuracy: 0.9830\n",
            "Epoch 22/30\n",
            "313/313 [==============================] - 1s 5ms/step - loss: 1.8974e-06 - accuracy: 1.0000 - val_loss: 0.0816 - val_accuracy: 0.9830\n",
            "Epoch 23/30\n",
            "313/313 [==============================] - 1s 5ms/step - loss: 1.5993e-06 - accuracy: 1.0000 - val_loss: 0.0823 - val_accuracy: 0.9830\n",
            "Epoch 24/30\n",
            "313/313 [==============================] - 1s 5ms/step - loss: 1.4089e-06 - accuracy: 1.0000 - val_loss: 0.0829 - val_accuracy: 0.9840\n",
            "Epoch 25/30\n",
            "313/313 [==============================] - 1s 5ms/step - loss: 1.2708e-06 - accuracy: 1.0000 - val_loss: 0.0835 - val_accuracy: 0.9840\n",
            "Epoch 26/30\n",
            "313/313 [==============================] - 2s 5ms/step - loss: 1.1619e-06 - accuracy: 1.0000 - val_loss: 0.0840 - val_accuracy: 0.9840\n",
            "Epoch 27/30\n",
            "313/313 [==============================] - 1s 5ms/step - loss: 1.0739e-06 - accuracy: 1.0000 - val_loss: 0.0844 - val_accuracy: 0.9840\n",
            "Epoch 28/30\n",
            "313/313 [==============================] - 2s 5ms/step - loss: 9.9695e-07 - accuracy: 1.0000 - val_loss: 0.0848 - val_accuracy: 0.9840\n",
            "Epoch 29/30\n",
            "313/313 [==============================] - 2s 6ms/step - loss: 9.3409e-07 - accuracy: 1.0000 - val_loss: 0.0852 - val_accuracy: 0.9840\n",
            "Epoch 30/30\n",
            "313/313 [==============================] - 2s 6ms/step - loss: 8.7801e-07 - accuracy: 1.0000 - val_loss: 0.0857 - val_accuracy: 0.9840\n",
            "32/32 [==============================] - 0s 3ms/step - loss: 0.0857 - accuracy: 0.9840\n",
            "Test accuracy: 98.4000027179718\n"
          ]
        }
      ]
    },
    {
      "cell_type": "code",
      "source": [
        "import matplotlib.pyplot as plt\n",
        "acc=history.history['accuracy']\n",
        "loss=history.history['loss']\n",
        "epochs=range(1,len(acc)+1)\n",
        "plt.plot(epochs,acc,'bo',label='Trainingacc')\n",
        "plt.title('Trainingaccuracy')\n",
        "plt.legend()\n",
        "plt.figure()\n",
        "plt.plot(epochs,loss,'bo',label='Trainingloss')\n",
        "plt.title('Trainingnloss')\n",
        "plt.legend()\n",
        "plt.show()"
      ],
      "metadata": {
        "colab": {
          "base_uri": "https://localhost:8080/",
          "height": 887
        },
        "id": "aCLVBSQTxqtx",
        "outputId": "315e5ecd-2c01-4cfa-87d5-142e5e5eaff6"
      },
      "execution_count": null,
      "outputs": [
        {
          "output_type": "display_data",
          "data": {
            "text/plain": [
              "<Figure size 640x480 with 1 Axes>"
            ],
            "image/png": "[encoded data removed]"
          },
          "metadata": {}
        },
        {
          "output_type": "display_data",
          "data": {
            "text/plain": [
              "<Figure size 640x480 with 1 Axes>"
            ],
            "image/png": "[encoded data removed]"
          },
          "metadata": {}
        }
      ]
    }
  ]
}